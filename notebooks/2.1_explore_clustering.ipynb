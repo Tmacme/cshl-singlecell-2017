{
 "cells": [
  {
   "cell_type": "markdown",
   "metadata": {},
   "source": [
    "<small><i>The K-means section of this notebook was put together by [Jake Vanderplas](http://www.vanderplas.com). Source and license info is on [GitHub](https://github.com/jakevdp/sklearn_tutorial/).</i></small>"
   ]
  },
  {
   "cell_type": "markdown",
   "metadata": {},
   "source": [
    "# Clustering: K-Means In-Depth"
   ]
  },
  {
   "cell_type": "markdown",
   "metadata": {},
   "source": [
    "Here we'll explore **K Means Clustering**, which is an unsupervised clustering technique.\n",
    "\n",
    "We'll start with our standard set of initial imports"
   ]
  },
  {
   "cell_type": "code",
   "execution_count": null,
   "metadata": {},
   "outputs": [],
   "source": [
    "%matplotlib inline\n",
    "import numpy as np\n",
    "import matplotlib.pyplot as plt\n",
    "from scipy import stats\n",
    "\n",
    "# use seaborn plotting defaults\n",
    "import seaborn as sns; sns.set()"
   ]
  },
  {
   "cell_type": "markdown",
   "metadata": {},
   "source": [
    "## Introducing K-Means"
   ]
  },
  {
   "cell_type": "markdown",
   "metadata": {},
   "source": [
    "K Means is an algorithm for **unsupervised clustering**: that is, finding clusters in data based on the data attributes alone (not the labels).\n",
    "\n",
    "K Means is a relatively easy-to-understand algorithm.  It searches for cluster centers which are the mean of the points within them, such that every point is closest to the cluster center it is assigned to.\n",
    "\n",
    "Let's look at how KMeans operates on the simple clusters we looked at previously. To emphasize that this is unsupervised, we'll not plot the colors of the clusters:"
   ]
  },
  {
   "cell_type": "code",
   "execution_count": null,
   "metadata": {},
   "outputs": [],
   "source": [
    "from sklearn.datasets.samples_generator import make_blobs\n",
    "X, y = make_blobs(n_samples=300, centers=4,\n",
    "                  random_state=0, cluster_std=0.60)\n",
    "plt.scatter(X[:, 0], X[:, 1], s=50);"
   ]
  },
  {
   "cell_type": "markdown",
   "metadata": {},
   "source": [
    "By eye, it is relatively easy to pick out the four clusters. If you were to perform an exhaustive search for the different segmentations of the data, however, the search space would be exponential in the number of points. Fortunately, there is a well-known *Expectation Maximization (EM)* procedure which scikit-learn implements, so that KMeans can be solved relatively quickly."
   ]
  },
  {
   "cell_type": "code",
   "execution_count": null,
   "metadata": {},
   "outputs": [],
   "source": [
    "from sklearn.cluster import KMeans\n",
    "est = KMeans(4)  # 4 clusters\n",
    "est.fit(X)\n",
    "y_kmeans = est.predict(X)\n",
    "plt.scatter(X[:, 0], X[:, 1], c=y_kmeans, s=50, cmap='rainbow');"
   ]
  },
  {
   "cell_type": "markdown",
   "metadata": {},
   "source": [
    "The algorithm identifies the four clusters of points in a manner very similar to what we would do by eye!"
   ]
  },
  {
   "cell_type": "markdown",
   "metadata": {},
   "source": [
    "## The K-Means Algorithm: Expectation Maximization\n",
    "\n",
    "K-Means is an example of an algorithm which uses an *Expectation-Maximization* approach to arrive at the solution.\n",
    "*Expectation-Maximization* is a two-step approach which works as follows:\n",
    "\n",
    "1. Guess some cluster centers\n",
    "2. Repeat until converged\n",
    "   A. Assign points to the nearest cluster center\n",
    "   B. Set the cluster centers to the mean \n",
    "   \n",
    "Let's quickly visualize this process:"
   ]
  },
  {
   "cell_type": "code",
   "execution_count": null,
   "metadata": {},
   "outputs": [],
   "source": [
    "from networkplots import plot_kmeans_interactive\n",
    "plot_kmeans_interactive();"
   ]
  },
  {
   "cell_type": "markdown",
   "metadata": {},
   "source": [
    "This algorithm will (often) converge to the optimal cluster centers."
   ]
  },
  {
   "cell_type": "markdown",
   "metadata": {},
   "source": [
    "### KMeans Caveats\n",
    "\n",
    "- The convergence of this algorithm is not guaranteed; for that reason, scikit-learn by default uses a large number of random initializations and finds the best results.\n",
    "\n",
    "- Also, the number of clusters must be set beforehand... there are other clustering algorithms for which this requirement may be lifted.\n",
    "- Clusters must be of similar size, because random initialization will prefer the larger clusters by default, and the smaller clusters will be ignored\n",
    "\n",
    "## Enter .. networks!\n",
    "\n",
    "\n",
    "Let's take a step back and talk about graph definitions for a second. A *Graph* (or \"network\") is a set of nodes (or \"verticies\") that are connected to each other via edges (or \"links\"):\n",
    "\n",
    "* A graph $G = (V, E)$ is a set of vertices $V$ and edges $E$\n",
    "\n",
    "![Graph with nodes or edges](http://mathinsight.org/media/image/image/small_undirected_network_labeled.png)\n",
    "\n",
    "* Graphs can be directed if the edges point in specific directions between edges:\n",
    "\n",
    "![Directed graph](https://upload.wikimedia.org/wikipedia/commons/a/a2/Directed.svg)\n",
    "\n",
    "\n",
    "* Or graphs can be undirected if the edges have no direction:\n",
    "\n",
    "![Undirected graph](https://upload.wikimedia.org/wikipedia/commons/b/bf/Undirected.svg)\n",
    "\n",
    "In this class, we'll be using undirected graphs.\n",
    "\n",
    "### Community detection!\n",
    "Finding [community structure](https://en.wikipedia.org/wiki/Community_structure) within networks is a well-established problem in the social sciences. Given pairwise connections between people, can you guess what are the local communities? How can you partition the graph to be a bunch of mini-graphs?\n",
    "\n",
    "![Example of a small network with communities](https://upload.wikimedia.org/wikipedia/commons/f/f4/Network_Community_Structure.svg)\n",
    "\n",
    "\n",
    "### PhenoGraph\n",
    "\n",
    "- PhenoGraph creates a $k$-nearest neighbor graph, where each cell is connected to the top $k$ cells it is closest to (in our case, which ones it is closet to in spearman correlation)\n",
    "    - Notice that $k$ here indicates the number of connections each cell is allowed to have, compared to $k$-means clustering where $k$ indicated how many clusters you thought were in your data.\n",
    "- Then, after graph creation, PhenoGraph detects the number of communities using a measure called \"Modularity,\" which measures how connected a subgroup is, compared to if the edges between nodes were randomly distributed\n",
    "- **Modularity ($Q$) ranges from -1 to 1**, where -1 means the subgraphs aren't connected to each other and 1 means the subgraphs is maximally connected\n",
    "    - Modularity has a resolution limit. The smallest group it can find is limited by the total number of connections (edges) in the graph. If the number of edges is $m$, then the smallest findable module is $\\sqrt{2m}$. How does the number of neighbors $k$ affect the total number of edges?\n",
    "- This is an *unsupervised* algorithm - you don't need to know the number of groups in the data before you try using it\n",
    "\n",
    "We'll be using the [`phenograph`](https://github.com/jacoblevine/PhenoGraph) package from Dana Pe'er's lab which was origianlly published in this paper: http://www.cell.com/cell/abstract/S0092-8674(15)00637-6\n",
    "\n",
    "As a reference, we'll be performing clustering on the Spearman correlation between cells."
   ]
  },
  {
   "cell_type": "code",
   "execution_count": null,
   "metadata": {},
   "outputs": [],
   "source": [
    "from bokeh.io import output_notebook\n",
    "\n",
    "# This line is required for the plots to appear in the notebooks\n",
    "output_notebook()"
   ]
  },
  {
   "cell_type": "code",
   "execution_count": null,
   "metadata": {
    "collapsed": true
   },
   "outputs": [],
   "source": [
    "%load_ext autoreload\n",
    "%autoreload 2"
   ]
  },
  {
   "cell_type": "code",
   "execution_count": null,
   "metadata": {},
   "outputs": [],
   "source": [
    "import networkplots\n",
    "\n",
    "networkplots.explore_phenograph()"
   ]
  },
  {
   "cell_type": "markdown",
   "metadata": {},
   "source": [
    "### Questions about PhenoGraph/Community Detection/K-nearest neighbors graphs\n",
    "\n",
    "1. How does changing $k$ affect the graph creation? \n",
    "    1. Do you get more or less clusters with smaller $k$?\n",
    "    1. Do you get more or less clusters with larger $k$?\n",
    "    1. If you want cells to be more similar, would you use a smaller or larger $k$?\n",
    "    2. If you want cells to be more different, would you use a smaller or larger $k$?\n",
    "1. How does changing `min_cluster_size` affect the number of clusters?\n",
    "1. Which dataset has more distinct clusters, the amacrine cells or the \"big clusters\"?\n",
    "    1. For the amacrine data, do you believe that these are all cells of truly different types or on some kind of continuum?\n",
    "    1. Would you use the clusters as-is for both the datasets, or would you merge some of them?\n",
    "1. How does the \"lowrank\" or \"smoothed\" data perform, compared to the \"raw\" counts data? Are cells more or less connected to each other?\n",
    "1. How does the metric affect the clustering?\n"
   ]
  }
 ],
 "metadata": {
  "kernelspec": {
   "display_name": "Python 3 (cshl-sca-2017)",
   "language": "python",
   "name": "cshl-sca-2017"
  },
  "language_info": {
   "codemirror_mode": {
    "name": "ipython",
    "version": 3
   },
   "file_extension": ".py",
   "mimetype": "text/x-python",
   "name": "python",
   "nbconvert_exporter": "python",
   "pygments_lexer": "ipython3",
   "version": "3.6.1"
  }
 },
 "nbformat": 4,
 "nbformat_minor": 1
}
