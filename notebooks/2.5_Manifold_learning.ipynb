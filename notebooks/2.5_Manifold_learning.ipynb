{
 "cells": [
  {
   "cell_type": "markdown",
   "metadata": {},
   "source": [
    "# Manifold learning\n",
    "\n",
    "## What is a manifold?\n",
    "\n",
    "Manifolds are multi-dimensional surfaces that could look flat if you're up really really close but from far away are curved. The classic example of a manifold is a torus, or \"donut\", where you could reshape a coffee mug into a donut by melting it while preserving the essential aspect - the handle or \"hole.\"\n",
    "\n",
    "![donut to mug](https://i.ytimg.com/vi/9NlqYr6-TpA/maxresdefault.jpg)\n",
    "\n",
    "The idea behind  manifold embedding algorithms is to maintain the high dimensional structure of the manifold, but plot the data in two dimensions.\n",
    "\n",
    "The math behind these algorithms is actually quite simple. We want to convert each point in high dimensions to a point in two dimensions:\n",
    "\n",
    "* High dimensional data of samples $\\vec{x}_i$ in $N$-dimensional gene space: $\\vec{x}_1, \\vec{x}_2, \\ldots \\vec{x}_N$\n",
    "* Low dimensional data $\\vec{y}_i = \\vec{y}_{i, 1}, \\vec{y}_{i, 2}$ (2-dimensional cartesian plane) - $\\vec{y}_1, \\vec{y}_2, \\ldots \\vec{y}_N$\n",
    "\n",
    "Visually, you can think of converting each high $N$-dimensional sample $i$'s gene expression vector $x_i$ to a length 2 vector:\n",
    "\n",
    "<center>\n",
    "$\n",
    "\\begin{bmatrix}\n",
    "           x_{i, 1} \\\\\n",
    "           x_{i, 2} \\\\\n",
    "           \\vdots \\\\\n",
    "           x_{i, N}\n",
    "\\end{bmatrix} \\rightarrow \\begin{bmatrix}\n",
    "           y_{i, 1} \\\\\n",
    "           y_{i, 2}\n",
    "\\end{bmatrix}\n",
    "         $\n",
    "</center>\n",
    "\n",
    "We'll compare MDS and t-SNE side by side once we get a brief introduction to both.\n",
    "\n",
    "\n",
    "## Multidimensional scaling (MDS)\n",
    "\n",
    "Multidimensional scaling is an algorithm which faithfully maintains all pairwise distances between the points in the dataset.\n",
    "\n",
    "### Whiteboard explanation and discussion\n",
    "\n",
    "## t-distributed Stochastic Neighbor Embedding (t-SNE)\n",
    "\n",
    "t-SNE is an extension of MDS. In addition to maintaining pairwise distances, t-SNE adds the constraint that things that were far apart in the high-dimensional data should also be far apart in 2d, and that things that are close together in high dimensions should stay close together.\n",
    "\n",
    "### Warnings\n",
    "\n",
    "* Do *NOT* use t-SNE for clustering!! We will explore how t-SNE can arbitrarily push some cells farther away and create what *look* like clusters but really aren't.\n",
    "* t-SNE is merely a visualization technique - it's a way that you can view ONE perspective of your data, but is NOT the final view\n",
    "\n",
    "### Whiteboard explanation and discussion\n"
   ]
  },
  {
   "cell_type": "code",
   "execution_count": null,
   "metadata": {
    "collapsed": true
   },
   "outputs": [],
   "source": [
    "import random"
   ]
  },
  {
   "cell_type": "code",
   "execution_count": null,
   "metadata": {},
   "outputs": [],
   "source": [
    "random.random()"
   ]
  },
  {
   "cell_type": "code",
   "execution_count": null,
   "metadata": {
    "collapsed": true
   },
   "outputs": [],
   "source": [
    "%load_ext autoreload\n",
    "%autoreload 2"
   ]
  },
  {
   "cell_type": "code",
   "execution_count": null,
   "metadata": {},
   "outputs": [],
   "source": [
    "%matplotlib inline\n",
    "\n",
    "from decompositionplots import explore_manifold\n",
    "explore_manifold()"
   ]
  },
  {
   "cell_type": "markdown",
   "metadata": {},
   "source": [
    "## Discussion\n",
    "\n",
    "While you're playing with the sliders above, discuss the questions below.\n",
    "\n",
    "1. How can you interpret the x- and y- axes of MDS and t-SNE?\n",
    "    - The x- and y-axes are purely for visualization purposes\n",
    "    - The x- and y-axes represent the highly varying features across samples\n",
    "    - The x- and y-axes represent independent signals from the samples\n",
    "2. For this data, which algorithm projects the data into more independent clusters?\n",
    "    - MDS\n",
    "    - t-SNE\n",
    "3. For this data, which algorithm is better in presenting the continuum of data?\n",
    "    - MDS\n",
    "    - t-SNE\n",
    "4. For this data, which distance metric creates the most cluster formation in t-SNE?\n",
    "    - Euclidean\n",
    "    - Cityblock\n",
    "5. For this data, does t-SNE preserve the original structure better with a PCA or random initialization?\n",
    "    - PCA\n",
    "    - Random\n",
    "6. How does adding noise affect MDS and t-SNE's embedding?"
   ]
  }
 ],
 "metadata": {
  "kernelspec": {
   "display_name": "Python 3 (cshl-sca-2017)",
   "language": "python",
   "name": "cshl-sca-2017"
  },
  "language_info": {
   "codemirror_mode": {
    "name": "ipython",
    "version": 3
   },
   "file_extension": ".py",
   "mimetype": "text/x-python",
   "name": "python",
   "nbconvert_exporter": "python",
   "pygments_lexer": "ipython3",
   "version": "3.6.1"
  }
 },
 "nbformat": 4,
 "nbformat_minor": 1
}
